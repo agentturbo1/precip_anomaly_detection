{
 "cells": [
  {
   "cell_type": "markdown",
   "metadata": {},
   "source": [
    "# Using Chebyshev's inequality to detect accumulated precipitation data anomalies.\n",
    "The basic idea is to gather accumulated precip data from stations near each other. Under the assumption that, stations near each other will produce similar data to each other, we can treat the accumulated precip data as a random variable with some distribution that is unknown to us. Then we can use Chebyshev's Inequality or the Markov inequality to get and upper bound for the probability that a certain data point belongs to this distribution. All we need for this is the *sample mean* and *sample variance* of our local distribution which is simple to compute.\n",
    "\n",
    "I will break this down into steps:\n",
    "1. Given a station that we think is an anomaly or not find all of its neighbors in a reasonable radius (More on choosing the radius later)\n",
    "+ Compute the mean and variance of the stations neighbors excluding the station itself (More on this as well).\n",
    "+ Compute the Chebyshev Inequality and obtain an upper bound for the probability of such a point.\n",
    "+ Gather results based on their bound and interpret the results.\n",
    "\n",
    "Some important things to remember:\n",
    "- The distribution of a stations neighbors may also be contaminated. This is the nature of the beast. We will explore the impacts of this depending on how contaminated the distribution is.\n",
    "- This method heavily relies on the assumption that observations geographically close to each other behave similarly.\n",
    "- For now we will only consider the accumulated precip. It may be possible to extend this to several variables."
   ]
  },
  {
   "cell_type": "markdown",
   "metadata": {},
   "source": [
    "## Chebyshev's Inequality\n",
    "Chebyshev's Inequality is used to obtain an upper bound for the probability that a certain number is outside a distance from the mean. More precisely, let $X$ be a random varaible with some distribution $D$. Let $\\mu, \\sigma^{2}$ be the mean and variance, respectively, of your data. Then \n",
    "$$\n",
    "\\begin{equation}\n",
    "P(|X-\\mu| \\geq \\epsilon) \\leq \\dfrac{\\sigma^{2}}{\\epsilon^{2}}=\\delta\n",
    "\\end{equation}\n",
    "$$\n",
    "#### Our case:\n",
    "In our case $x \\geq 0$ and we will only consider $P(X-\\mu \\geq \\epsilon) \\leq P(|X-\\mu| \\geq \\epsilon) \\leq \\dfrac{\\sigma^{2}}{\\epsilon^{2}}=\\delta$. We can obtain $\\epsilon$ by considering the concentration inequality,\n",
    "$$\n",
    "P(X \\geq \\alpha)=P(X-\\mu \\geq \\alpha-\\mu)=P(X-\\mu \\geq \\epsilon) \\leq \\dfrac{\\sigma^{2}}{\\epsilon^{2}}=\\delta, \\quad \\epsilon = \\alpha-\\mu\n",
    "$$\n",
    "where $\\alpha$ is the point of interest. For $0<\\epsilon<1$ the problem is uninteresting and we can intuitively conclude that alpha is not a bad data point because it is very close to the mean, UNLESS $\\sigma > \\epsilon$. If $\\delta>1$ then it strongly suggests that $\\alpha$ belongs to the distribution."
   ]
  },
  {
   "cell_type": "markdown",
   "metadata": {},
   "source": [
    "## Example dataset\n",
    "We will use this strategy on some simple synthetic distributions.\n",
    "#### Uniform(0,1)"
   ]
  },
  {
   "cell_type": "code",
   "execution_count": 117,
   "metadata": {
    "scrolled": true
   },
   "outputs": [
    {
     "name": "stdout",
     "output_type": "stream",
     "text": [
      "Mu: 0.4720924834365427, \n",
      "Var: 0.09793207613751041, \n",
      "Alpha: 0.0, \n",
      "Epsilon: -0.4720924834365427, \n",
      "Bound: 0.43941086385513173\n",
      "\n",
      "Mu: 0.4720924834365427, \n",
      "Var: 0.09793207613751041, \n",
      "Alpha: 0.1111111111111111, \n",
      "Epsilon: -0.3609813723254316, \n",
      "Bound: 0.7515456722288489\n",
      "\n",
      "Mu: 0.4720924834365427, \n",
      "Var: 0.09793207613751041, \n",
      "Alpha: 0.2222222222222222, \n",
      "Epsilon: -0.2498702612143205, \n",
      "Bound: 1.5685408003993397\n",
      "\n",
      "Mu: 0.4720924834365427, \n",
      "Var: 0.09793207613751041, \n",
      "Alpha: 0.3333333333333333, \n",
      "Epsilon: -0.13875915010320938, \n",
      "Bound: 5.086296804356288\n",
      "\n",
      "Mu: 0.4720924834365427, \n",
      "Var: 0.09793207613751041, \n",
      "Alpha: 0.4444444444444444, \n",
      "Epsilon: -0.02764803899209828, \n",
      "Bound: 128.11391266612617\n",
      "\n",
      "Mu: 0.4720924834365427, \n",
      "Var: 0.09793207613751041, \n",
      "Alpha: 0.5555555555555556, \n",
      "Epsilon: 0.08346307211901288, \n",
      "Bound: 14.058410781164257\n",
      "\n",
      "Mu: 0.4720924834365427, \n",
      "Var: 0.09793207613751041, \n",
      "Alpha: 0.6666666666666666, \n",
      "Epsilon: 0.19457418323012393, \n",
      "Bound: 2.5867504267057058\n",
      "\n",
      "Mu: 0.4720924834365427, \n",
      "Var: 0.09793207613751041, \n",
      "Alpha: 0.7777777777777777, \n",
      "Epsilon: 0.305685294341235, \n",
      "Bound: 1.0480351977460234\n",
      "\n",
      "Mu: 0.4720924834365427, \n",
      "Var: 0.09793207613751041, \n",
      "Alpha: 0.8888888888888888, \n",
      "Epsilon: 0.41679640545234614, \n",
      "Bound: 0.5637376384399584\n",
      "\n",
      "Mu: 0.4720924834365427, \n",
      "Var: 0.09793207613751041, \n",
      "Alpha: 1.0, \n",
      "Epsilon: 0.5279075165634572, \n",
      "Bound: 0.35140607901177673\n",
      "\n"
     ]
    }
   ],
   "source": [
    "import numpy as np\n",
    "import matplotlib.pyplot as plt\n",
    "np.random.seed(10)\n",
    "x = np.random.uniform(0,1,15)\n",
    "mu = x.mean()\n",
    "var = x.var()\n",
    "for i in np.linspace(0,1,10):\n",
    "    alpha = i\n",
    "    epsilon = alpha-mu\n",
    "    bound = var/(epsilon**2)\n",
    "\n",
    "    print('Mu: {}, \\nVar: {}, \\nAlpha: {}, \\nEpsilon: {}, \\nBound: {}\\n'.format(mu,var,alpha,epsilon,bound))"
   ]
  }
 ],
 "metadata": {
  "kernelspec": {
   "display_name": "Python 3",
   "language": "python",
   "name": "python3"
  },
  "language_info": {
   "codemirror_mode": {
    "name": "ipython",
    "version": 3
   },
   "file_extension": ".py",
   "mimetype": "text/x-python",
   "name": "python",
   "nbconvert_exporter": "python",
   "pygments_lexer": "ipython3",
   "version": "3.6.6"
  }
 },
 "nbformat": 4,
 "nbformat_minor": 2
}
