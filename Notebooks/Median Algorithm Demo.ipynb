{
 "cells": [
  {
   "cell_type": "markdown",
   "metadata": {},
   "source": [
    "# Demo of the Median Algorithm\n",
    "This algorithm aims to detect outliers/anomalies in spatial data. The algorithm is not of my own design, but the implementation is. I have cited the source below. \n",
    "\n",
    "This is just a demo and the implementation needs tweaking as well as the methodology of running it. This demo only considers what we call a <u>single attribute</u>. There is a method defined in [Chen](#chen) for multiple attributes.\n",
    "\n",
    "This implementation is currently only working for total accumulated precipitation. Let's begin."
   ]
  },
  {
   "cell_type": "markdown",
   "metadata": {},
   "source": [
    "## The data\n",
    "As before we are going to look at the Dugway station cluster because it has some easy to find outliers by just using your eyes. We use the API to get the accumulated precipitation from March 1st 2018 at time 00:00 to October 14th 2018 at time 00:00. We get the data from all stations within a 20 mile radius, the desert is vast and rural after all. Here is the code that does this using some helpful tools that I've written."
   ]
  },
  {
   "cell_type": "code",
   "execution_count": 5,
   "metadata": {},
   "outputs": [
    {
     "ename": "ModuleNotFoundError",
     "evalue": "No module named 'MesoTools'",
     "output_type": "error",
     "traceback": [
      "\u001b[1;31m---------------------------------------------------------------------------\u001b[0m",
      "\u001b[1;31mModuleNotFoundError\u001b[0m                       Traceback (most recent call last)",
      "\u001b[1;32m<ipython-input-5-6f6bf0e8fb2a>\u001b[0m in \u001b[0;36m<module>\u001b[1;34m\u001b[0m\n\u001b[1;32m----> 1\u001b[1;33m \u001b[1;32mfrom\u001b[0m \u001b[0mMesoTools\u001b[0m\u001b[1;33m.\u001b[0m\u001b[0mMesoDataframes\u001b[0m \u001b[1;32mimport\u001b[0m \u001b[0mprecip_dataframe\u001b[0m\u001b[1;33m,\u001b[0m \u001b[0mprecip_meso_knn\u001b[0m\u001b[1;33m\u001b[0m\u001b[1;33m\u001b[0m\u001b[0m\n\u001b[0m\u001b[0;32m      2\u001b[0m \u001b[1;32mfrom\u001b[0m \u001b[0mmedian_algorithm\u001b[0m \u001b[1;32mimport\u001b[0m \u001b[0mPrecipMSAD\u001b[0m\u001b[1;33m\u001b[0m\u001b[1;33m\u001b[0m\u001b[0m\n",
      "\u001b[1;31mModuleNotFoundError\u001b[0m: No module named 'MesoTools'"
     ]
    }
   ],
   "source": [
    "from MesoTools.MesoDataframes import precip_dataframe, precip_meso_knn\n",
    "from median_algorithm import PrecipMSAD"
   ]
  },
  {
   "cell_type": "markdown",
   "metadata": {},
   "source": [
    "### Sources <href name='chen'>\n",
    "Chen, D., Lu, CT., Kou, Y. et al. Geoinformatica (2008) 12: 455. https://doi.org/10.1007/s10707-007-0038-8"
   ]
  }
 ],
 "metadata": {
  "kernelspec": {
   "display_name": "Python 3",
   "language": "python",
   "name": "python3"
  },
  "language_info": {
   "codemirror_mode": {
    "name": "ipython",
    "version": 3
   },
   "file_extension": ".py",
   "mimetype": "text/x-python",
   "name": "python",
   "nbconvert_exporter": "python",
   "pygments_lexer": "ipython3",
   "version": "3.6.7"
  }
 },
 "nbformat": 4,
 "nbformat_minor": 2
}
