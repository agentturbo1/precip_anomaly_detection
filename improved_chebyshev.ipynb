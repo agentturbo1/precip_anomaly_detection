{
 "cells": [
  {
   "cell_type": "markdown",
   "metadata": {},
   "source": [
    "# Improving on Cheby-Shev anomaly detection using robust estimators.\n",
    "\n",
    "As discussed at the end of the notebook titled [*Using Chebyshev's inequality to detect accumulated precipitation data anomalies.*](https://github.com/mesowx/precip_anomaly_detection/blob/master/precip_anomaly_detection_chebyshev.ipynb) we are now going to look at the same process, but using robust estimators instead of the usual sample estimators. We will briefly summarize what these estimators are and how they are defined and then we will look at using them in our Cheby computation.\n",
    "\n",
    "## Estimators\n",
    "An estimator is loosely defined as a function of the data that estimates a statistic of the data. The easiest example is sample mean $\\dfrac{1}{n}\\sum^{n}_{i=1}X_{i}$ which estimates $\\mu$ the mean based off the data $X_i$. A robust estimator resists the bias introduced by outliers. The median is an example of a robust mean. \n",
    "\n",
    "For our calculations we will use the median to estimate the expectation of our groups and to estimate the variance we will use the median absolute deviation and square it to estimate the variance. The median absolute deviation or MAD is defined as $\\text{median}\\left(|x_1 - \\text{median}(X)|, |x_2 - \\text{median}\\left(X\\right)|, \\dots, |x_n - \\text{median}(X)|\\right)$.\n",
    "\n",
    "## Using robust estimators\n",
    "We will go through the same examples as before in [*Using Chebyshev's inequality to detect accumulated precipitation data anomalies.*](https://github.com/mesowx/precip_anomaly_detection/blob/master/precip_anomaly_detection_chebyshev.ipynb) Except that we will use our new robust estimators instead of the usual ones. I will run both computations side by side so that we can see the differences.\n"
   ]
  },
  {
   "cell_type": "code",
   "execution_count": 6,
   "metadata": {},
   "outputs": [],
   "source": [
    "import matplotlib.pyplot as plt\n",
    "plt.style.use('ggplot')\n",
    "import numpy as np\n",
    "import os.path\n",
    "import requests\n",
    "import json\n",
    "import pandas as pd\n",
    "from statsmodels import robust\n",
    "from datetime import datetime\n",
    "from pandas.io.json import json_normalize\n",
    "%run ./functions.ipynb"
   ]
  },
  {
   "cell_type": "code",
   "execution_count": 7,
   "metadata": {},
   "outputs": [],
   "source": [
    "def _plot_(x):\n",
    "    plt.hist(x,bins=15)\n",
    "    plt.xlabel('Precip')\n",
    "    plt.ylabel('Count')\n",
    "    plt.title('Precip frequency')\n",
    "    plt.show()\n",
    "    plt.plot(x, '-o', label='Precip')\n",
    "    med = np.median(x)\n",
    "    std = robust.mad(x)\n",
    "    plt.hlines(med, xmin=0, xmax=x.shape[0]-1, label='Median')\n",
    "    plt.hlines([med+std, med-std], xmin=0, xmax=x.shape[0]-1, \n",
    "               linestyles='dashed', label='1 Std')\n",
    "    plt.xlabel('Index')\n",
    "    plt.ylabel('Precip')\n",
    "    plt.legend()\n",
    "    plt.show()"
   ]
  },
  {
   "cell_type": "markdown",
   "metadata": {},
   "source": [
    "TODO: Copy and modify computations from other notebook\n"
   ]
  }
 ],
 "metadata": {
  "kernelspec": {
   "display_name": "Python 3",
   "language": "python",
   "name": "python3"
  },
  "language_info": {
   "codemirror_mode": {
    "name": "ipython",
    "version": 3
   },
   "file_extension": ".py",
   "mimetype": "text/x-python",
   "name": "python",
   "nbconvert_exporter": "python",
   "pygments_lexer": "ipython3",
   "version": "3.6.6"
  }
 },
 "nbformat": 4,
 "nbformat_minor": 2
}
